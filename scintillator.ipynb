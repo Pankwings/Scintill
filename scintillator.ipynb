{
 "cells": [
  {
   "cell_type": "code",
   "execution_count": null,
   "metadata": {
    "scrolled": false
   },
   "outputs": [],
   "source": [
    "import numpy as np\n",
    "import helpers\n",
    "import os\n",
    "import matplotlib.pyplot as plt\n",
    "import pandas as pd\n",
    "import sys\n",
    "\n",
    "# Channel names.\n",
    "CHANNEL_1 = 1\n",
    "CHANNEL_2 = 2\n",
    "CHANNEL_3 = 3\n",
    "CHANNEL_4 = 4\n",
    "\n",
    "hchannela1=[]\n",
    "\n",
    "# Load data from file and return datas in file and number of file read.\n",
    "\n",
    "dir_location = '/home/pankwings/scint/test_datas/'\n",
    "waveformdata, num_files = helpers.load_waveformdata(dir_location, \"80.0V\")\n",
    "if len(waveformdata) <= 0:\n",
    "    print(\"No data found !!!\")\n",
    "    sys.exit()\n",
    "    # TODO: Explain about the start value for each of the channels.\n",
    "    ###In put values to the channel 4 channels\n",
    "    ###This Function distributes the value of each signal to individual variable from 2D to 1D.\n",
    "\n",
    "channela1 = helpers.filter_channel_data(waveformdata, 0)\n",
    "channelb1 = helpers.filter_channel_data(waveformdata, 1)\n",
    "channelc1 = helpers.filter_channel_data(waveformdata, 2)\n",
    "channeld1 = helpers.filter_channel_data(waveformdata, 3)\n",
    "\n",
    "# TODO: Clearing the noise associated with the signal using fft.\n",
    "\n",
    "noise_free_channela1 = channela1 #helpers.denoising(channela1)\n",
    "noise_free_channelb1 = channelb1 #helpers.denoising(channelb1)\n",
    "noise_free_channelc1 = channelc1 #helpers.denoising(channelc1)\n",
    "noise_free_channeld1 = channeld1 #helpers.denoising(channeld1)\n",
    "\n",
    "# TODO: \"Combination of signal of channel 1(Overlap of all signal in channel 1)\"\n",
    "#Sub part for \"red curve from each actual waveform, not the histogram\" \n",
    "\n",
    "avg_channel_one_set_cha1 = helpers.fn_comb( noise_free_channela1, CHANNEL_1, num_files)\n",
    "avg_channel_one_set_cha2 = helpers.fn_comb( noise_free_channelb1, CHANNEL_2, num_files)\n",
    "avg_channel_one_set_cha3 = helpers.fn_comb( noise_free_channelc1, CHANNEL_3, num_files)\n",
    "avg_channel_one_set_cha4 = helpers.fn_comb( noise_free_channeld1, CHANNEL_4, num_files)\n",
    "\n",
    "# print(len(channela1))\n",
    "# print(len(channelb1))\n",
    "# print(len(channelc1))\n",
    "# print(len(channeld1))\n"
   ]
  },
  {
   "cell_type": "code",
   "execution_count": null,
   "metadata": {},
   "outputs": [],
   "source": []
  },
  {
   "cell_type": "code",
   "execution_count": null,
   "metadata": {},
   "outputs": [],
   "source": []
  }
 ],
 "metadata": {
  "kernelspec": {
   "display_name": "Python 3",
   "language": "python",
   "name": "python3"
  },
  "language_info": {
   "codemirror_mode": {
    "name": "ipython",
    "version": 3
   },
   "file_extension": ".py",
   "mimetype": "text/x-python",
   "name": "python",
   "nbconvert_exporter": "python",
   "pygments_lexer": "ipython3",
   "version": "3.8.3"
  }
 },
 "nbformat": 4,
 "nbformat_minor": 4
}
